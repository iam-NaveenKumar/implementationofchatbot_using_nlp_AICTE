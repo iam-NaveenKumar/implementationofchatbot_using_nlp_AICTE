{
 "cells": [
  {
   "cell_type": "code",
   "execution_count": 3,
   "id": "b3f39375-f4ec-4112-8df6-a75c244949d6",
   "metadata": {},
   "outputs": [],
   "source": [
    "import nltk  # For natural language processing\n",
    "import random  # To randomly select responses\n",
    "import os  # For file handling (if needed)\n",
    "import ssl  # To handle SSL issues in nltk downloads\n",
    "import streamlit as st  # For web-based chatbot UI\n",
    "from sklearn.feature_extraction.text import TfidfVectorizer  # Corrected typo\n",
    "from sklearn.linear_model import LogisticRegression  # For text classification"
   ]
  },
  {
   "cell_type": "code",
   "execution_count": 4,
   "id": "27f2454f-0de6-4a79-9609-8ef86581ded7",
   "metadata": {},
   "outputs": [
    {
     "name": "stderr",
     "output_type": "stream",
     "text": [
      "[nltk_data] Downloading package punkt to\n",
      "[nltk_data]     C:\\Users\\91852\\AppData\\Roaming\\nltk_data...\n",
      "[nltk_data]   Unzipping tokenizers\\punkt.zip.\n"
     ]
    },
    {
     "data": {
      "text/plain": [
       "True"
      ]
     },
     "execution_count": 4,
     "metadata": {},
     "output_type": "execute_result"
    }
   ],
   "source": [
    "ssl._create_default_https_context = ssl._create_unverified_context\n",
    "nltk.data.path.append(os.path.abspath('nltk_data'))\n",
    "nltk.download('punkt')"
   ]
  },
  {
   "cell_type": "code",
   "execution_count": 5,
   "id": "5af37b6e-9972-416d-ae73-95cf2faaf4b2",
   "metadata": {},
   "outputs": [],
   "source": [
    "intents = [\n",
    "    {\n",
    "        \"tag\": \"greeting\",\n",
    "        \"patterns\": [\"Hi\", \"Hello\", \"Hey\", \"What's up?\", \"How are you?\"],\n",
    "        \"responses\": [\"Hi there!\", \"Hello!\", \"Hey!\", \"Not much, you?\", \"I'm doing well, thanks!\"]\n",
    "    },\n",
    "    {\n",
    "        \"tag\": \"goodbye\",\n",
    "        \"patterns\": [\"Bye\", \"See you\", \"Goodbye\", \"Take care\"],\n",
    "        \"responses\": [\"Goodbye!\", \"See you soon!\", \"Take care!\", \"Have a great day!\"]\n",
    "    },\n",
    "    {\n",
    "        \"tag\": \"thanks\",\n",
    "        \"patterns\": [\"Thank you\", \"Thanks\", \"I appreciate it\", \"Thanks a lot\"],\n",
    "        \"responses\": [\"You're welcome!\", \"No problem!\", \"Glad to help!\", \"Anytime!\"]\n",
    "    },\n",
    "    {\n",
    "        \"tag\": \"about\",\n",
    "        \"patterns\": [\"Who are you?\", \"What can you do?\", \"What are you?\", \"Tell me about yourself\"],\n",
    "        \"responses\": [\"I'm a simple chatbot here to assist you!\", \"I'm an AI bot designed to help.\", \"I can answer your questions and chat with you!\"]\n",
    "    },\n",
    "    {\n",
    "        \"tag\": \"help\",\n",
    "        \"patterns\": [\"Help\", \"I need help\", \"Can you help me?\", \"What should I do?\"],\n",
    "        \"responses\": [\"Sure! What do you need help with?\", \"I'm here to assist. Tell me your issue.\", \"Let me know how I can help!\"]\n",
    "    },\n",
    "    {\n",
    "        \"tag\": \"age\",\n",
    "        \"patterns\": [\"How old are you?\", \"What’s your age?\"],\n",
    "        \"responses\": [\"I don't have an age, I'm just a bot!\", \"I was created recently in the digital world!\", \"Age doesn’t apply to chatbots!\"]\n",
    "    },\n",
    "    {\n",
    "        \"tag\": \"hobbies\",\n",
    "        \"patterns\": [\"What are your hobbies?\", \"Do you have a hobby?\", \"What do you like to do?\"],\n",
    "        \"responses\": [\"I love chatting with people like you!\", \"Helping users is my favorite thing to do.\", \"I don't have hobbies, but I can talk about yours!\"]\n",
    "    },\n",
    "    {\n",
    "        \"tag\": \"fun_fact\",\n",
    "        \"patterns\": [\"Tell me a fun fact\", \"Give me an interesting fact\", \"Say something cool\"],\n",
    "        \"responses\": [\"Did you know honey never spoils?\", \"Bananas are berries, but strawberries aren’t!\", \"Octopuses have three hearts!\"]\n",
    "    },\n",
    "    {\n",
    "        \"tag\": \"favorite\",\n",
    "        \"patterns\": [\"What's your favorite color?\", \"Do you have a favorite movie?\", \"What's your favorite food?\"],\n",
    "        \"responses\": [\"I like all colors equally!\", \"I don’t watch movies, but I think sci-fi sounds fun!\", \"I don’t eat, but I hear pizza is popular!\"]\n",
    "    }\n",
    "]\n"
   ]
  },
  {
   "cell_type": "code",
   "execution_count": null,
   "id": "3336c7fe-a0eb-4dad-931c-cd34c07119fa",
   "metadata": {},
   "outputs": [],
   "source": []
  }
 ],
 "metadata": {
  "kernelspec": {
   "display_name": "Python 3 (ipykernel)",
   "language": "python",
   "name": "python3"
  },
  "language_info": {
   "codemirror_mode": {
    "name": "ipython",
    "version": 3
   },
   "file_extension": ".py",
   "mimetype": "text/x-python",
   "name": "python",
   "nbconvert_exporter": "python",
   "pygments_lexer": "ipython3",
   "version": "3.12.4"
  }
 },
 "nbformat": 4,
 "nbformat_minor": 5
}
